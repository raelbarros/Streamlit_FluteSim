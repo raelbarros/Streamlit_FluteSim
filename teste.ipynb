{
 "cells": [
  {
   "cell_type": "code",
   "execution_count": 1,
   "metadata": {},
   "outputs": [],
   "source": [
    "import os\n",
    "import numpy as np\n",
    "import pandas as pd\n",
    "import matplotlib.pyplot as plt\n",
    "import seaborn as sns"
   ]
  },
  {
   "cell_type": "code",
   "execution_count": 108,
   "metadata": {},
   "outputs": [],
   "source": [
    "df = pd.read_csv(\"data/generalSimulationData_12.csv\")\n",
    "df.columns = df.columns.str.strip()"
   ]
  },
  {
   "cell_type": "code",
   "execution_count": 112,
   "metadata": {},
   "outputs": [],
   "source": [
    "df.columns = df.columns.str.strip()\n",
    "df.sort_values(by=\"Numero da execucao\")\n",
    "\n",
    "df[\"taxa_colisao\"] = (\n",
    "    (df[\"numero total de drones colidentes\"] / df[\"numero de drones lancados no tempo estavel\"]) * 100\n",
    ")"
   ]
  },
  {
   "cell_type": "code",
   "execution_count": 114,
   "metadata": {},
   "outputs": [
    {
     "data": {
      "text/plain": [
       "0     1.282051\n",
       "1     2.792321\n",
       "2     0.000000\n",
       "3     2.013423\n",
       "4     1.045296\n",
       "5     1.462523\n",
       "6     1.476015\n",
       "7     1.760563\n",
       "8     0.340716\n",
       "9     1.879699\n",
       "10    2.587800\n",
       "11    1.367521\n",
       "12    1.565558\n",
       "13    1.138520\n",
       "14    0.688468\n",
       "15    0.731261\n",
       "16    2.054795\n",
       "17    1.470588\n",
       "18    1.788909\n",
       "19    1.886792\n",
       "20    1.052632\n",
       "21    1.733102\n",
       "22    0.723327\n",
       "23    2.003339\n",
       "24    3.716216\n",
       "25    1.067616\n",
       "26    1.365188\n",
       "27    1.462523\n",
       "28    1.851852\n",
       "29    1.396161\n",
       "Name: taxa_colisao, dtype: float64"
      ]
     },
     "execution_count": 114,
     "metadata": {},
     "output_type": "execute_result"
    }
   ],
   "source": [
    "df[\"taxa_colisao\"]\n"
   ]
  }
 ],
 "metadata": {
  "kernelspec": {
   "display_name": ".venv",
   "language": "python",
   "name": "python3"
  },
  "language_info": {
   "codemirror_mode": {
    "name": "ipython",
    "version": 3
   },
   "file_extension": ".py",
   "mimetype": "text/x-python",
   "name": "python",
   "nbconvert_exporter": "python",
   "pygments_lexer": "ipython3",
   "version": "3.9.13"
  }
 },
 "nbformat": 4,
 "nbformat_minor": 2
}
