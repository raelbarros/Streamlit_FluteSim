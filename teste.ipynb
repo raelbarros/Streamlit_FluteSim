{
 "cells": [
  {
   "cell_type": "code",
   "execution_count": 6,
   "metadata": {},
   "outputs": [],
   "source": [
    "import pandas as pd\n",
    "import ast\n",
    "import re\n",
    "import matplotlib.pyplot as plt\n",
    "import numpy as np"
   ]
  },
  {
   "cell_type": "code",
   "execution_count": 7,
   "metadata": {},
   "outputs": [],
   "source": [
    "# Sample data (replace this with your actual DataFrame)\n",
    "data = {\n",
    "    'value': [\n",
    "        \"{'taxa': array([1.28, 2.79, 1.56]), 'label': array([0, 1, 2])}\",\n",
    "        \"{'media': np.float64(1.52), 'desvio_padrao': np.float64(0.71), 'intervalo': np.float64(0.71)}\",\n",
    "        \"{'num_drones': array([624, 573, 511]), 'label': array([0, 1, 2])}\",\n",
    "        # Add more rows as needed\n",
    "    ],\n",
    "    'function_name': ['collision_rate_per_execution', 'collision_rate_geral', 'drone_density_per_execution'],\n",
    "    'simulation_name': [\"1\", \"2\", \"3\"],\n",
    "    'file_name': ['generalSimulationData.csv'] * 3\n",
    "}\n",
    "df = pd.DataFrame(data)"
   ]
  },
  {
   "cell_type": "code",
   "execution_count": 8,
   "metadata": {},
   "outputs": [],
   "source": [
    "# Updated parsing function\n",
    "def parse_value(val_str):\n",
    "    # Replace 'array([...])' with '[...]'\n",
    "    val_str = re.sub(r'array\\((\\[.*?\\])\\)', r'\\1', val_str)\n",
    "    # Replace 'np.float64(value)' with 'value'\n",
    "    val_str = re.sub(r'np\\.float64\\((.*?)\\)', r'\\1', val_str)\n",
    "    return ast.literal_eval(val_str)"
   ]
  },
  {
   "cell_type": "code",
   "execution_count": 9,
   "metadata": {},
   "outputs": [],
   "source": [
    "from src.exposition.complete.collision_rate import collision_rate_geral\n",
    "from src.exposition.complete.collision_rate_per_execution import collision_rate_per_execution\n",
    "from src.exposition.complete.drone_density_per_execution import drone_density_per_execution\n",
    "_MAP_COMPLETE_FUNCTIONS = {\n",
    "    'droneCollisionData': [],\n",
    "    'generalSimulationData': [collision_rate_per_execution, collision_rate_geral, drone_density_per_execution],\n",
    "    'generalDroneData': [],\n",
    "}"
   ]
  },
  {
   "cell_type": "code",
   "execution_count": 20,
   "metadata": {},
   "outputs": [
    {
     "name": "stdout",
     "output_type": "stream",
     "text": [
      "droneCollisionData\n",
      "generalSimulationData\n",
      "generalDroneData\n"
     ]
    }
   ],
   "source": [
    "for key, funcs in _MAP_COMPLETE_FUNCTIONS.items():\n",
    "    print(key)\n",
    "    for func in funcs:\n",
    "        func_name = func.__name__  # Obtém o nome da função como string\n",
    "        df_teste = df[\n",
    "            (df[\"file_name\"] == f\"{key}.csv\")\n",
    "            & (df[\"function_name\"] == func_name)\n",
    "        ]\n",
    "\n",
    "        df_teste.head()"
   ]
  }
 ],
 "metadata": {
  "kernelspec": {
   "display_name": ".venv",
   "language": "python",
   "name": "python3"
  },
  "language_info": {
   "codemirror_mode": {
    "name": "ipython",
    "version": 3
   },
   "file_extension": ".py",
   "mimetype": "text/x-python",
   "name": "python",
   "nbconvert_exporter": "python",
   "pygments_lexer": "ipython3",
   "version": "3.9.13"
  }
 },
 "nbformat": 4,
 "nbformat_minor": 2
}
